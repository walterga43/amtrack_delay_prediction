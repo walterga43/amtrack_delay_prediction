{
 "cells": [
  {
   "cell_type": "code",
   "execution_count": 35,
   "id": "0677b27b",
   "metadata": {},
   "outputs": [
    {
     "name": "stdout",
     "output_type": "stream",
     "text": [
      "Number of train groups: 149\n",
      "Keys in first train: ['routeName', 'trainNum', 'trainNumRaw', 'trainID', 'lat', 'lon', 'trainTimely', 'iconColor', 'textColor', 'stations', 'heading', 'eventCode', 'eventTZ', 'eventName', 'origCode', 'originTZ', 'origName', 'destCode', 'destTZ', 'destName', 'trainState', 'velocity', 'statusMsg', 'createdAt', 'updatedAt', 'lastValTS', 'objectID', 'provider', 'providerShort', 'onlyOfTrainNum', 'alerts']\n",
      "Station values in first train: dict_keys(['name', 'code', 'tz', 'bus', 'schArr', 'schDep', 'arr', 'dep', 'arrCmnt', 'depCmnt', 'status', 'stopIconColor', 'platform'])\n"
     ]
    }
   ],
   "source": [
    "import pandas as pd\n",
    "import matplotlib as plt\n",
    "from data import get_train_data\n",
    "\n",
    "\n",
    "raw_data = get_train_data()\n",
    "\n",
    "print(f\"Number of train groups: {len(raw_data)}\")\n",
    "\n",
    "first_train_key = list(raw_data.keys())[0]\n",
    "first_train = raw_data[first_train_key][0]\n",
    "\n",
    "print(f\"Keys in first train: {list(first_train.keys())}\")\n",
    "print(f\"Station values in first train: {(first_train['stations'][0].keys())}\")"
   ]
  },
  {
   "cell_type": "code",
   "execution_count": 36,
   "id": "5df0554a",
   "metadata": {},
   "outputs": [
    {
     "name": "stdout",
     "output_type": "stream",
     "text": [
      "TRAINS DataFrame:\n",
      "  train_number       route_name train_id        lat         lon heading  \\\n",
      "0            1   Sunset Limited     1-28  30.351255 -103.687212      NW   \n",
      "1            2   Sunset Limited     2-27  29.767345  -95.366058       E   \n",
      "2            3  Southwest Chief     3-27  33.872613 -117.769810      SW   \n",
      "3            3  Southwest Chief     3-28  38.074298 -102.359506       W   \n",
      "4            4  Southwest Chief     4-27  39.086807  -94.583786       E   \n",
      "\n",
      "    velocity train_state status_msg origin_code dest_code  num_stations  \n",
      "0  34.392879      Active                    NOL       LAX            22  \n",
      "1   0.000000      Active                    LAX       NOL            22  \n",
      "2  56.550980      Active                    CHI       LAX            32  \n",
      "3  58.073330      Active                    CHI       LAX            32  \n",
      "4   0.260976      Active                    LAX       CHI            32  \n",
      "Shape: (162, 12)\n"
     ]
    }
   ],
   "source": [
    "train_records = []\n",
    "for train_number, train_list in raw_data.items():\n",
    "  for train in train_list:\n",
    "    train_record = {\n",
    "      'train_number': train_number,\n",
    "      'route_name': train.get('routeName', ''),\n",
    "      'train_id': train.get('trainID', ''),\n",
    "      'lat': train.get('lat'),\n",
    "      'lon': train.get('lon'),\n",
    "      'heading': train.get('heading', ''),\n",
    "      'velocity': train.get('velocity'),\n",
    "      'train_state': train.get('trainState', ''),\n",
    "      'status_msg': train.get('statusMsg', ''),\n",
    "      'origin_code': train.get('origCode', ''),\n",
    "      'dest_code': train.get('destCode', ''),\n",
    "      'num_stations': len(train.get('stations', []))\n",
    "    }\n",
    "    train_records.append(train_record)\n",
    "\n",
    "trains_df = pd.DataFrame(train_records)\n",
    "print(\"TRAINS DataFrame:\")\n",
    "print(trains_df.head())\n",
    "print(f\"Shape: {trains_df.shape}\")"
   ]
  },
  {
   "cell_type": "code",
   "execution_count": 37,
   "id": "606c31f2",
   "metadata": {},
   "outputs": [
    {
     "name": "stdout",
     "output_type": "stream",
     "text": [
      "\n",
      "STATIONS DataFrame:\n",
      "  train_number train_id      route_name  station_name station_code  \\\n",
      "0            1     1-28  Sunset Limited   New Orleans          NOL   \n",
      "1            1     1-28  Sunset Limited     Schriever          SCH   \n",
      "2            1     1-28  Sunset Limited    New Iberia          NIB   \n",
      "3            1     1-28  Sunset Limited     Lafayette          LFT   \n",
      "4            1     1-28  Sunset Limited  Lake Charles          LCH   \n",
      "\n",
      "           scheduled_arrival             actual_arrival  \\\n",
      "0  2025-07-28T09:00:00-05:00  2025-07-28T09:02:00-05:00   \n",
      "1  2025-07-28T10:30:00-05:00  2025-07-28T10:32:00-05:00   \n",
      "2  2025-07-28T11:56:00-05:00  2025-07-28T11:55:00-05:00   \n",
      "3  2025-07-28T12:24:00-05:00  2025-07-28T12:26:00-05:00   \n",
      "4  2025-07-28T13:55:00-05:00  2025-07-28T13:48:00-05:00   \n",
      "\n",
      "         scheduled_departure           actual_departure    status  \\\n",
      "0  2025-07-28T09:00:00-05:00  2025-07-28T09:00:00-05:00  Departed   \n",
      "1  2025-07-28T10:30:00-05:00  2025-07-28T10:33:00-05:00  Departed   \n",
      "2  2025-07-28T11:56:00-05:00  2025-07-28T12:00:00-05:00  Departed   \n",
      "3  2025-07-28T12:24:00-05:00  2025-07-28T12:30:00-05:00  Departed   \n",
      "4  2025-07-28T13:55:00-05:00  2025-07-28T13:55:00-05:00  Departed   \n",
      "\n",
      "          timezone  \n",
      "0  America/Chicago  \n",
      "1  America/Chicago  \n",
      "2  America/Chicago  \n",
      "3  America/Chicago  \n",
      "4  America/Chicago  \n",
      "Shape: (3069, 11)\n"
     ]
    }
   ],
   "source": [
    "station_records = []\n",
    "for train_number, train_list in raw_data.items():\n",
    "  for train in train_list:\n",
    "    route_name = train.get('routeName', '')\n",
    "    train_id = train.get('trainID', '')\n",
    "    \n",
    "    for station in train.get('stations', []):\n",
    "      station_record = {\n",
    "        'train_number': train_number,\n",
    "        'train_id': train_id,\n",
    "        'route_name': route_name,\n",
    "        'station_name': station.get('name', ''),\n",
    "        'station_code': station.get('code', ''),\n",
    "        'scheduled_arrival': station.get('schArr'),\n",
    "        'actual_arrival': station.get('arr'),\n",
    "        'scheduled_departure': station.get('schDep'),\n",
    "        'actual_departure': station.get('dep'),\n",
    "        'status': station.get('status', ''),\n",
    "        'timezone': station.get('tz', ''),\n",
    "      }\n",
    "      station_records.append(station_record)\n",
    "\n",
    "stations_df = pd.DataFrame(station_records)\n",
    "print(\"\\nSTATIONS DataFrame:\")\n",
    "print(stations_df.head())\n",
    "print(f\"Shape: {stations_df.shape}\")\n"
   ]
  },
  {
   "cell_type": "code",
   "execution_count": null,
   "id": "50731b6d",
   "metadata": {},
   "outputs": [
    {
     "name": "stdout",
     "output_type": "stream",
     "text": [
      "Number of delays: 0\n",
      "Status values: f['Departed' 'Station' 'Enroute']\n"
     ]
    },
    {
     "name": "stderr",
     "output_type": "stream",
     "text": [
      "C:\\Users\\walte\\AppData\\Local\\Temp\\ipykernel_18056\\3516135735.py:8: FutureWarning: In a future version of pandas, parsing datetimes with mixed time zones will raise an error unless `utc=True`. Please specify `utc=True` to opt in to the new behaviour and silence this warning. To create a `Series` with mixed offsets and `object` dtype, please use `apply` and `datetime.datetime.strptime`\n",
      "  stations_df['scheduled_departure_dt'] = pd.to_datetime(stations_df['scheduled_departure'])\n"
     ]
    },
    {
     "ename": "ValueError",
     "evalue": "time data \"2025-07-29T21:19:02.000Z\" doesn't match format \"%Y-%m-%dT%H:%M:%S%z\", at position 2957. You might want to try:\n    - passing `format` if your strings have a consistent format;\n    - passing `format='ISO8601'` if your strings are all ISO8601 but not necessarily in exactly the same format;\n    - passing `format='mixed'`, and the format will be inferred for each element individually. You might want to use `dayfirst` alongside this.",
     "output_type": "error",
     "traceback": [
      "\u001b[1;31m---------------------------------------------------------------------------\u001b[0m",
      "\u001b[1;31mValueError\u001b[0m                                Traceback (most recent call last)",
      "Cell \u001b[1;32mIn[43], line 9\u001b[0m\n\u001b[0;32m      7\u001b[0m \u001b[38;5;66;03m# Convert time columns to datetime\u001b[39;00m\n\u001b[0;32m      8\u001b[0m stations_df[\u001b[38;5;124m'\u001b[39m\u001b[38;5;124mscheduled_departure_dt\u001b[39m\u001b[38;5;124m'\u001b[39m] \u001b[38;5;241m=\u001b[39m pd\u001b[38;5;241m.\u001b[39mto_datetime(stations_df[\u001b[38;5;124m'\u001b[39m\u001b[38;5;124mscheduled_departure\u001b[39m\u001b[38;5;124m'\u001b[39m])\n\u001b[1;32m----> 9\u001b[0m stations_df[\u001b[38;5;124m'\u001b[39m\u001b[38;5;124mactual_departure_dt\u001b[39m\u001b[38;5;124m'\u001b[39m] \u001b[38;5;241m=\u001b[39m pd\u001b[38;5;241m.\u001b[39mto_datetime(stations_df[\u001b[38;5;124m'\u001b[39m\u001b[38;5;124mactual_departure\u001b[39m\u001b[38;5;124m'\u001b[39m])\n\u001b[0;32m     10\u001b[0m stations_df[\u001b[38;5;124m'\u001b[39m\u001b[38;5;124mscheduled_arrival_dt\u001b[39m\u001b[38;5;124m'\u001b[39m] \u001b[38;5;241m=\u001b[39m pd\u001b[38;5;241m.\u001b[39mto_datetime(stations_df[\u001b[38;5;124m'\u001b[39m\u001b[38;5;124mscheduled_arrival\u001b[39m\u001b[38;5;124m'\u001b[39m])\n\u001b[0;32m     11\u001b[0m stations_df[\u001b[38;5;124m'\u001b[39m\u001b[38;5;124mactual_arrival_dt\u001b[39m\u001b[38;5;124m'\u001b[39m] \u001b[38;5;241m=\u001b[39m pd\u001b[38;5;241m.\u001b[39mto_datetime(stations_df[\u001b[38;5;124m'\u001b[39m\u001b[38;5;124mactual_arrival\u001b[39m\u001b[38;5;124m'\u001b[39m])\n",
      "File \u001b[1;32mc:\\Users\\walte\\anaconda3\\Lib\\site-packages\\pandas\\core\\tools\\datetimes.py:1067\u001b[0m, in \u001b[0;36mto_datetime\u001b[1;34m(arg, errors, dayfirst, yearfirst, utc, format, exact, unit, infer_datetime_format, origin, cache)\u001b[0m\n\u001b[0;32m   1065\u001b[0m         result \u001b[38;5;241m=\u001b[39m arg\u001b[38;5;241m.\u001b[39mmap(cache_array)\n\u001b[0;32m   1066\u001b[0m     \u001b[38;5;28;01melse\u001b[39;00m:\n\u001b[1;32m-> 1067\u001b[0m         values \u001b[38;5;241m=\u001b[39m convert_listlike(arg\u001b[38;5;241m.\u001b[39m_values, \u001b[38;5;28mformat\u001b[39m)\n\u001b[0;32m   1068\u001b[0m         result \u001b[38;5;241m=\u001b[39m arg\u001b[38;5;241m.\u001b[39m_constructor(values, index\u001b[38;5;241m=\u001b[39marg\u001b[38;5;241m.\u001b[39mindex, name\u001b[38;5;241m=\u001b[39marg\u001b[38;5;241m.\u001b[39mname)\n\u001b[0;32m   1069\u001b[0m \u001b[38;5;28;01melif\u001b[39;00m \u001b[38;5;28misinstance\u001b[39m(arg, (ABCDataFrame, abc\u001b[38;5;241m.\u001b[39mMutableMapping)):\n",
      "File \u001b[1;32mc:\\Users\\walte\\anaconda3\\Lib\\site-packages\\pandas\\core\\tools\\datetimes.py:433\u001b[0m, in \u001b[0;36m_convert_listlike_datetimes\u001b[1;34m(arg, format, name, utc, unit, errors, dayfirst, yearfirst, exact)\u001b[0m\n\u001b[0;32m    431\u001b[0m \u001b[38;5;66;03m# `format` could be inferred, or user didn't ask for mixed-format parsing.\u001b[39;00m\n\u001b[0;32m    432\u001b[0m \u001b[38;5;28;01mif\u001b[39;00m \u001b[38;5;28mformat\u001b[39m \u001b[38;5;129;01mis\u001b[39;00m \u001b[38;5;129;01mnot\u001b[39;00m \u001b[38;5;28;01mNone\u001b[39;00m \u001b[38;5;129;01mand\u001b[39;00m \u001b[38;5;28mformat\u001b[39m \u001b[38;5;241m!=\u001b[39m \u001b[38;5;124m\"\u001b[39m\u001b[38;5;124mmixed\u001b[39m\u001b[38;5;124m\"\u001b[39m:\n\u001b[1;32m--> 433\u001b[0m     \u001b[38;5;28;01mreturn\u001b[39;00m _array_strptime_with_fallback(arg, name, utc, \u001b[38;5;28mformat\u001b[39m, exact, errors)\n\u001b[0;32m    435\u001b[0m result, tz_parsed \u001b[38;5;241m=\u001b[39m objects_to_datetime64(\n\u001b[0;32m    436\u001b[0m     arg,\n\u001b[0;32m    437\u001b[0m     dayfirst\u001b[38;5;241m=\u001b[39mdayfirst,\n\u001b[1;32m   (...)\u001b[0m\n\u001b[0;32m    441\u001b[0m     allow_object\u001b[38;5;241m=\u001b[39m\u001b[38;5;28;01mTrue\u001b[39;00m,\n\u001b[0;32m    442\u001b[0m )\n\u001b[0;32m    444\u001b[0m \u001b[38;5;28;01mif\u001b[39;00m tz_parsed \u001b[38;5;129;01mis\u001b[39;00m \u001b[38;5;129;01mnot\u001b[39;00m \u001b[38;5;28;01mNone\u001b[39;00m:\n\u001b[0;32m    445\u001b[0m     \u001b[38;5;66;03m# We can take a shortcut since the datetime64 numpy array\u001b[39;00m\n\u001b[0;32m    446\u001b[0m     \u001b[38;5;66;03m# is in UTC\u001b[39;00m\n",
      "File \u001b[1;32mc:\\Users\\walte\\anaconda3\\Lib\\site-packages\\pandas\\core\\tools\\datetimes.py:467\u001b[0m, in \u001b[0;36m_array_strptime_with_fallback\u001b[1;34m(arg, name, utc, fmt, exact, errors)\u001b[0m\n\u001b[0;32m    456\u001b[0m \u001b[38;5;28;01mdef\u001b[39;00m\u001b[38;5;250m \u001b[39m\u001b[38;5;21m_array_strptime_with_fallback\u001b[39m(\n\u001b[0;32m    457\u001b[0m     arg,\n\u001b[0;32m    458\u001b[0m     name,\n\u001b[1;32m   (...)\u001b[0m\n\u001b[0;32m    462\u001b[0m     errors: \u001b[38;5;28mstr\u001b[39m,\n\u001b[0;32m    463\u001b[0m ) \u001b[38;5;241m-\u001b[39m\u001b[38;5;241m>\u001b[39m Index:\n\u001b[0;32m    464\u001b[0m \u001b[38;5;250m    \u001b[39m\u001b[38;5;124;03m\"\"\"\u001b[39;00m\n\u001b[0;32m    465\u001b[0m \u001b[38;5;124;03m    Call array_strptime, with fallback behavior depending on 'errors'.\u001b[39;00m\n\u001b[0;32m    466\u001b[0m \u001b[38;5;124;03m    \"\"\"\u001b[39;00m\n\u001b[1;32m--> 467\u001b[0m     result, tz_out \u001b[38;5;241m=\u001b[39m array_strptime(arg, fmt, exact\u001b[38;5;241m=\u001b[39mexact, errors\u001b[38;5;241m=\u001b[39merrors, utc\u001b[38;5;241m=\u001b[39mutc)\n\u001b[0;32m    468\u001b[0m     \u001b[38;5;28;01mif\u001b[39;00m tz_out \u001b[38;5;129;01mis\u001b[39;00m \u001b[38;5;129;01mnot\u001b[39;00m \u001b[38;5;28;01mNone\u001b[39;00m:\n\u001b[0;32m    469\u001b[0m         unit \u001b[38;5;241m=\u001b[39m np\u001b[38;5;241m.\u001b[39mdatetime_data(result\u001b[38;5;241m.\u001b[39mdtype)[\u001b[38;5;241m0\u001b[39m]\n",
      "File \u001b[1;32mstrptime.pyx:501\u001b[0m, in \u001b[0;36mpandas._libs.tslibs.strptime.array_strptime\u001b[1;34m()\u001b[0m\n",
      "File \u001b[1;32mstrptime.pyx:451\u001b[0m, in \u001b[0;36mpandas._libs.tslibs.strptime.array_strptime\u001b[1;34m()\u001b[0m\n",
      "File \u001b[1;32mstrptime.pyx:583\u001b[0m, in \u001b[0;36mpandas._libs.tslibs.strptime._parse_with_format\u001b[1;34m()\u001b[0m\n",
      "\u001b[1;31mValueError\u001b[0m: time data \"2025-07-29T21:19:02.000Z\" doesn't match format \"%Y-%m-%dT%H:%M:%S%z\", at position 2957. You might want to try:\n    - passing `format` if your strings have a consistent format;\n    - passing `format='ISO8601'` if your strings are all ISO8601 but not necessarily in exactly the same format;\n    - passing `format='mixed'`, and the format will be inferred for each element individually. You might want to use `dayfirst` alongside this."
     ]
    }
   ],
   "source": [
    "print(f\"Number of delays: {stations_df['status'].str.contains('late|delay', case=False, na=False).sum()}\")\n",
    "print(f\"Status values: f{stations_df['status'].unique()}\")\n"
   ]
  }
 ],
 "metadata": {
  "kernelspec": {
   "display_name": "base",
   "language": "python",
   "name": "python3"
  },
  "language_info": {
   "codemirror_mode": {
    "name": "ipython",
    "version": 3
   },
   "file_extension": ".py",
   "mimetype": "text/x-python",
   "name": "python",
   "nbconvert_exporter": "python",
   "pygments_lexer": "ipython3",
   "version": "3.13.5"
  }
 },
 "nbformat": 4,
 "nbformat_minor": 5
}
