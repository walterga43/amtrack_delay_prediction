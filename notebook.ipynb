{
 "cells": [
  {
   "cell_type": "code",
   "execution_count": 1,
   "id": "0677b27b",
   "metadata": {},
   "outputs": [
    {
     "name": "stdout",
     "output_type": "stream",
     "text": [
      "Calling API for fresh data\n",
      "Success!\n",
      "Number of train groups: 166\n",
      "Keys in first train: ['routeName', 'trainNum', 'trainNumRaw', 'trainID', 'lat', 'lon', 'trainTimely', 'iconColor', 'textColor', 'stations', 'heading', 'eventCode', 'eventTZ', 'eventName', 'origCode', 'originTZ', 'origName', 'destCode', 'destTZ', 'destName', 'trainState', 'velocity', 'statusMsg', 'createdAt', 'updatedAt', 'lastValTS', 'objectID', 'provider', 'providerShort', 'onlyOfTrainNum', 'alerts']\n",
      "Station values in first train: dict_keys(['name', 'code', 'tz', 'bus', 'schArr', 'schDep', 'arr', 'dep', 'arrCmnt', 'depCmnt', 'status', 'stopIconColor', 'platform'])\n"
     ]
    }
   ],
   "source": [
    "import pandas as pd\n",
    "import matplotlib as plt\n",
    "from data import get_train_data\n",
    "\n",
    "\n",
    "raw_data = get_train_data()\n",
    "\n",
    "print(f\"Number of train groups: {len(raw_data)}\")\n",
    "\n",
    "first_train_key = list(raw_data.keys())[0]\n",
    "first_train = raw_data[first_train_key][0]\n",
    "\n",
    "print(f\"Keys in first train: {list(first_train.keys())}\")\n",
    "print(f\"Station values in first train: {(first_train['stations'][0].keys())}\")"
   ]
  },
  {
   "cell_type": "code",
   "execution_count": 2,
   "id": "5df0554a",
   "metadata": {},
   "outputs": [
    {
     "name": "stdout",
     "output_type": "stream",
     "text": [
      "TRAINS DataFrame:\n",
      "  train_number       route_name train_id        lat         lon heading  \\\n",
      "0            1   Sunset Limited     1-30  31.758026 -106.498408       W   \n",
      "1            2   Sunset Limited     2-30  32.350885 -108.709613       E   \n",
      "2            3  Southwest Chief     3-31  41.879008  -87.639306       N   \n",
      "3            3  Southwest Chief     3-30  35.476568 -105.231722      SE   \n",
      "4            4  Southwest Chief     4-29  41.302868  -89.732535       E   \n",
      "\n",
      "    velocity   train_state status_msg origin_code dest_code  num_stations  \n",
      "0   0.093206        Active                    NOL       LAX            22  \n",
      "1  20.200769        Active                    LAX       NOL            22  \n",
      "2   0.000000  Predeparture                    CHI       LAX            32  \n",
      "3  48.284351        Active                    CHI       LAX            32  \n",
      "4  79.150238        Active                    LAX       CHI            32  \n",
      "Shape: (182, 12)\n"
     ]
    }
   ],
   "source": [
    "train_records = []\n",
    "for train_number, train_list in raw_data.items():\n",
    "  for train in train_list:\n",
    "    train_record = {\n",
    "      'train_number': train_number,\n",
    "      'route_name': train.get('routeName', ''),\n",
    "      'train_id': train.get('trainID', ''),\n",
    "      'lat': train.get('lat'),\n",
    "      'lon': train.get('lon'),\n",
    "      'heading': train.get('heading', ''),\n",
    "      'velocity': train.get('velocity'),\n",
    "      'train_state': train.get('trainState', ''),\n",
    "      'status_msg': train.get('statusMsg', ''),\n",
    "      'origin_code': train.get('origCode', ''),\n",
    "      'dest_code': train.get('destCode', ''),\n",
    "      'num_stations': len(train.get('stations', []))\n",
    "    }\n",
    "    train_records.append(train_record)\n",
    "\n",
    "trains_df = pd.DataFrame(train_records)\n",
    "print(\"TRAINS DataFrame:\")\n",
    "print(trains_df.head())\n",
    "print(f\"Shape: {trains_df.shape}\")"
   ]
  },
  {
   "cell_type": "code",
   "execution_count": 16,
   "id": "606c31f2",
   "metadata": {},
   "outputs": [
    {
     "name": "stdout",
     "output_type": "stream",
     "text": [
      "\n",
      "STATIONS DataFrame:\n",
      "  train_number train_id      route_name  station_name station_code  \\\n",
      "0            1     1-30  Sunset Limited   New Orleans          NOL   \n",
      "1            1     1-30  Sunset Limited     Schriever          SCH   \n",
      "2            1     1-30  Sunset Limited    New Iberia          NIB   \n",
      "3            1     1-30  Sunset Limited     Lafayette          LFT   \n",
      "4            1     1-30  Sunset Limited  Lake Charles          LCH   \n",
      "\n",
      "          scheduled_arrival            actual_arrival  \\\n",
      "0 2025-07-30 14:00:00+00:00 2025-07-30 14:00:00+00:00   \n",
      "1 2025-07-30 15:30:00+00:00 2025-07-30 15:33:00+00:00   \n",
      "2 2025-07-30 16:56:00+00:00 2025-07-30 17:05:00+00:00   \n",
      "3 2025-07-30 17:24:00+00:00 2025-07-30 17:33:00+00:00   \n",
      "4 2025-07-30 18:55:00+00:00 2025-07-30 18:54:00+00:00   \n",
      "\n",
      "        scheduled_departure          actual_departure    status  \\\n",
      "0 2025-07-30 14:00:00+00:00 2025-07-30 14:00:00+00:00  Departed   \n",
      "1 2025-07-30 15:30:00+00:00 2025-07-30 15:35:00+00:00  Departed   \n",
      "2 2025-07-30 16:56:00+00:00 2025-07-30 17:06:00+00:00  Departed   \n",
      "3 2025-07-30 17:24:00+00:00 2025-07-30 17:37:00+00:00  Departed   \n",
      "4 2025-07-30 18:55:00+00:00 2025-07-30 18:56:00+00:00  Departed   \n",
      "\n",
      "          timezone  \n",
      "0  America/Chicago  \n",
      "1  America/Chicago  \n",
      "2  America/Chicago  \n",
      "3  America/Chicago  \n",
      "4  America/Chicago  \n",
      "Shape: (3489, 11)\n"
     ]
    }
   ],
   "source": [
    "station_records = []\n",
    "for train_number, train_list in raw_data.items():\n",
    "  for train in train_list:\n",
    "    route_name = train.get('routeName', '')\n",
    "    train_id = train.get('trainID', '')\n",
    "    \n",
    "    for station in train.get('stations', []):\n",
    "      station_record = {\n",
    "        'train_number': train_number,\n",
    "        'train_id': train_id,\n",
    "        'route_name': route_name,\n",
    "        'station_name': station.get('name', ''),\n",
    "        'station_code': station.get('code', ''),\n",
    "        'scheduled_arrival': station.get('schArr'),\n",
    "        'actual_arrival': station.get('arr'),\n",
    "        'scheduled_departure': station.get('schDep'),\n",
    "        'actual_departure': station.get('dep'),\n",
    "        'status': station.get('status', ''),\n",
    "        'timezone': station.get('tz', ''),\n",
    "      }\n",
    "      station_records.append(station_record)\n",
    "\n",
    "stations_df = pd.DataFrame(station_records)\n",
    "\n",
    "time_columns = ['scheduled_arrival', 'actual_arrival', 'scheduled_departure', 'actual_departure']\n",
    "for col in time_columns:\n",
    "  stations_df[col] = pd.to_datetime(stations_df[col], errors='coerce', utc=True)\n",
    "\n",
    "print(\"\\nSTATIONS DataFrame:\")\n",
    "print(stations_df.head())\n",
    "print(f\"Shape: {stations_df.shape}\")\n"
   ]
  },
  {
   "cell_type": "code",
   "execution_count": 22,
   "id": "50731b6d",
   "metadata": {},
   "outputs": [
    {
     "name": "stdout",
     "output_type": "stream",
     "text": [
      "Departure delays: 0     0.0\n",
      "1     5.0\n",
      "2    10.0\n",
      "3    13.0\n",
      "4     1.0\n",
      "Name: departure_delay_minutes, dtype: float64\n",
      "Arrival delays: 0    0.0\n",
      "1    3.0\n",
      "2    9.0\n",
      "3    9.0\n",
      "4   -1.0\n",
      "Name: arrival_delay_minutes, dtype: float64\n",
      "Total departure delays: 2004\n",
      "Total arrival delays: 1989\n"
     ]
    }
   ],
   "source": [
    "stations_df[\"departure_delay_minutes\"] = (stations_df['actual_departure'] - stations_df['scheduled_departure']).dt.total_seconds() / 60\n",
    "stations_df[\"arrival_delay_minutes\"] = (stations_df['actual_arrival'] - stations_df['scheduled_arrival']).dt.total_seconds() / 60\n",
    "\n",
    "print(f\"Departure delays: {stations_df.departure_delay_minutes.head()}\")\n",
    "print(f\"Arrival delays: {stations_df.arrival_delay_minutes.head()}\")\n",
    "\n",
    "print(f\"Total departure delays: {stations_df.departure_delay_minutes.gt(0).sum()}\")\n",
    "print(f\"Total arrival delays: {stations_df.arrival_delay_minutes.gt(0).sum()}\")\n"
   ]
  }
 ],
 "metadata": {
  "kernelspec": {
   "display_name": "base",
   "language": "python",
   "name": "python3"
  },
  "language_info": {
   "codemirror_mode": {
    "name": "ipython",
    "version": 3
   },
   "file_extension": ".py",
   "mimetype": "text/x-python",
   "name": "python",
   "nbconvert_exporter": "python",
   "pygments_lexer": "ipython3",
   "version": "3.13.5"
  }
 },
 "nbformat": 4,
 "nbformat_minor": 5
}
